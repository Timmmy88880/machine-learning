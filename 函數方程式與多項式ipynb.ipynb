{
  "nbformat": 4,
  "nbformat_minor": 0,
  "metadata": {
    "colab": {
      "name": "函數方程式與多項式ipynb",
      "provenance": [],
      "authorship_tag": "ABX9TyNSP9Pg56C/3uajFLgH/Skk",
      "include_colab_link": true
    },
    "kernelspec": {
      "name": "python3",
      "display_name": "Python 3"
    },
    "language_info": {
      "name": "python"
    }
  },
  "cells": [
    {
      "cell_type": "markdown",
      "metadata": {
        "id": "view-in-github",
        "colab_type": "text"
      },
      "source": [
        "<a href=\"https://colab.research.google.com/github/Timmmy88880/machine-learning/blob/cola/%E5%87%BD%E6%95%B8%E6%96%B9%E7%A8%8B%E5%BC%8F%E8%88%87%E5%A4%9A%E9%A0%85%E5%BC%8Fipynb.ipynb\" target=\"_parent\"><img src=\"https://colab.research.google.com/assets/colab-badge.svg\" alt=\"Open In Colab\"/></a>"
      ]
    },
    {
      "cell_type": "code",
      "execution_count": null,
      "metadata": {
        "colab": {
          "base_uri": "https://localhost:8080/"
        },
        "id": "ldhxJ-tHKO1f",
        "outputId": "555f83b5-0331-4ca2-b97f-cd4bc6fb65fd"
      },
      "outputs": [
        {
          "output_type": "stream",
          "name": "stdout",
          "text": [
            "The ceil of 7.9 is : 8\n",
            "The floor of 7.9 is : 7\n",
            "The absolute value of -1 is : 1.0\n",
            "The factorial of 6 is : 720\n",
            "The copysigned value of -9 and 7.6 is : 9.0\n",
            "The gcd of 10 and 25 is : 5\n"
          ]
        }
      ],
      "source": [
        "# 以 Python 程式示範如何呼叫\n",
        "# ceil() 和 floor()\n",
        "\n",
        "# 載入 \"math\" 數學程式庫\n",
        "import math\n",
        "\n",
        "a = 7.9\n",
        "\n",
        "# 求 7.9 的 ceil()\n",
        "print (\"The ceil of 7.9 is : \", end=\"\")\n",
        "print (math.ceil(a))\n",
        "\n",
        "# 求 7.9 的 floor()\n",
        "print (\"The floor of 7.9 is : \", end=\"\")\n",
        "print (math.floor(a))\n",
        "\n",
        "# 以 Python 程式示範如何呼叫\n",
        "# fabs() and factorial()\n",
        "\n",
        "# 載入 \"math\" 數學程式庫\n",
        "import math\n",
        "\n",
        "a = -1\n",
        "\n",
        "b= 6\n",
        "\n",
        "# 回傳絕對值.\n",
        "print (\"The absolute value of -1 is : \", end=\"\")\n",
        "print (math.fabs(a))\n",
        "\n",
        "# 回傳 6 的階乘\n",
        "print (\"The factorial of 6 is : \", end=\"\")\n",
        "print (math.factorial(b))\n",
        "\n",
        "# 以 Python 程式呼叫\n",
        "# copysign() 和 gcd()\n",
        "\n",
        "# 載入 \"math\" 數學程式庫\n",
        "import math\n",
        "\n",
        "a = -9\n",
        "b = 7.6\n",
        "c = 25\n",
        "d = 10\n",
        "\n",
        "# 回傳 copysigned 的值.\n",
        "print (\"The copysigned value of -9 and 7.6 is : \", end=\"\")\n",
        "print (math.copysign(a,b))\n",
        "\n",
        "# 回傳 25 和 10 的 最大公約數\n",
        "print (\"The gcd of 10 and 25 is : \", end=\"\")\n",
        "print (math.gcd(c,d))"
      ]
    }
  ]
}