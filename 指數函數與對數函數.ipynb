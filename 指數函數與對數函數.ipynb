{
  "nbformat": 4,
  "nbformat_minor": 0,
  "metadata": {
    "colab": {
      "name": "指數函數與對數函數.ipynb",
      "provenance": [],
      "authorship_tag": "ABX9TyPeacD+ApTmA/mgDr2Ll8z5",
      "include_colab_link": true
    },
    "kernelspec": {
      "name": "python3",
      "display_name": "Python 3"
    },
    "language_info": {
      "name": "python"
    }
  },
  "cells": [
    {
      "cell_type": "markdown",
      "metadata": {
        "id": "view-in-github",
        "colab_type": "text"
      },
      "source": [
        "<a href=\"https://colab.research.google.com/github/Timmmy88880/machine-learning/blob/cola/%E6%8C%87%E6%95%B8%E5%87%BD%E6%95%B8%E8%88%87%E5%B0%8D%E6%95%B8%E5%87%BD%E6%95%B8.ipynb\" target=\"_parent\"><img src=\"https://colab.research.google.com/assets/colab-badge.svg\" alt=\"Open In Colab\"/></a>"
      ]
    },
    {
      "cell_type": "code",
      "execution_count": null,
      "metadata": {
        "colab": {
          "base_uri": "https://localhost:8080/"
        },
        "id": "OahRqjP8XVGo",
        "outputId": "e2d6cc2a-3c05-40bd-f9a5-0bf23eb31c2a"
      },
      "outputs": [
        {
          "output_type": "stream",
          "name": "stdout",
          "text": [
            "The value of 4 to the power 3 is : 64.0\n",
            "The value of square root of 49 : 7.0\n",
            "The value of log2 of 64 is : 6.0\n",
            "The value of log10 of 1000 is : 3.0\n",
            "The e**3 value is : 20.085536923187668\n",
            "The value of log 100 with base 10 is : 2.0\n"
          ]
        }
      ],
      "source": [
        "# 以 Python 程式碼展示\n",
        "# pow() 和 sqrt()\n",
        "\n",
        "# 載入 \"math\" 數學程式庫\n",
        "import math\n",
        "\n",
        "# returning the value of 4**3\n",
        "print (\"The value of 4 to the power 3 is : \", end=\"\")\n",
        "print (math.pow(4,3))\n",
        "\n",
        "# returning the square root of 49\n",
        "print (\"The value of square root of 49 : \", end=\"\")\n",
        "print (math.sqrt(49))\n",
        "\n",
        "# 以 Python 程式碼展示\n",
        "# log2() 和 log10()\n",
        "\n",
        "# 載入 \"math\" 數學程式庫\n",
        "import math\n",
        "\n",
        "# returning the log2 of 64\n",
        "print (\"The value of log2 of 64 is : \", end=\"\")\n",
        "print (math.log2(64))\n",
        "\n",
        "# returning the log10 of 1000\n",
        "print (\"The value of log10 of 1000 is : \", end=\"\")\n",
        "print (math.log10(1000))\n",
        "\n",
        "# 以 Python 程式碼展示\n",
        "# exp() 和 log() 函數\n",
        "\n",
        "# 載入 \"math\" 數學程式庫\n",
        "import math\n",
        "\n",
        "# 回傳 e 的 3次冪\n",
        "print (\"The e**3 value is : \", end=\"\")\n",
        "print (math.exp(3))\n",
        "\n",
        "# 回傳 10,100 的對數\n",
        "print (\"The value of log 100 with base 10 is : \", end=\"\")\n",
        "print (math.log(100,10))"
      ]
    }
  ]
}