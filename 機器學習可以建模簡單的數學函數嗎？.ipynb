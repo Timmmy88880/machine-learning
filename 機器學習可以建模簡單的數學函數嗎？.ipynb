{
  "nbformat": 4,
  "nbformat_minor": 0,
  "metadata": {
    "colab": {
      "name": "機器學習可以建模簡單的數學函數嗎？.ipynb",
      "provenance": [],
      "authorship_tag": "ABX9TyP7UD3VpQNQFlAfFuJR2bTY",
      "include_colab_link": true
    },
    "kernelspec": {
      "name": "python3",
      "display_name": "Python 3"
    },
    "language_info": {
      "name": "python"
    }
  },
  "cells": [
    {
      "cell_type": "markdown",
      "metadata": {
        "id": "view-in-github",
        "colab_type": "text"
      },
      "source": [
        "<a href=\"https://colab.research.google.com/github/Timmmy88880/machine-learning/blob/cola/%E6%A9%9F%E5%99%A8%E5%AD%B8%E7%BF%92%E5%8F%AF%E4%BB%A5%E5%BB%BA%E6%A8%A1%E7%B0%A1%E5%96%AE%E7%9A%84%E6%95%B8%E5%AD%B8%E5%87%BD%E6%95%B8%E5%97%8E%EF%BC%9F.ipynb\" target=\"_parent\"><img src=\"https://colab.research.google.com/assets/colab-badge.svg\" alt=\"Open In Colab\"/></a>"
      ]
    },
    {
      "cell_type": "code",
      "execution_count": null,
      "metadata": {
        "colab": {
          "base_uri": "https://localhost:8080/"
        },
        "id": "jqgKG3TOHrBV",
        "outputId": "8c8488ce-12b6-49e8-e2a1-f258d1fe2051"
      },
      "outputs": [
        {
          "output_type": "stream",
          "name": "stderr",
          "text": [
            "/usr/local/lib/python3.7/dist-packages/ipykernel_launcher.py:84: DeprecationWarning: elementwise comparison failed; this will raise an error in the future.\n"
          ]
        },
        {
          "output_type": "stream",
          "name": "stdout",
          "text": [
            "R-squared: 0.611186\n"
          ]
        },
        {
          "output_type": "stream",
          "name": "stderr",
          "text": [
            "/usr/local/lib/python3.7/dist-packages/sklearn/neural_network/_multilayer_perceptron.py:696: ConvergenceWarning: Stochastic Optimizer: Maximum iterations (200) reached and the optimization hasn't converged yet.\n",
            "  ConvergenceWarning,\n"
          ]
        }
      ],
      "source": [
        "import numpy as np\n",
        "import pandas as pd\n",
        "import matplotlib.pyplot as plt\n",
        "import seaborn as sns\n",
        "from sklearn.metrics import explained_variance_score\n",
        "from sklearn.linear_model import LinearRegression\n",
        "from sklearn.svm import SVR\n",
        "from sklearn.tree import DecisionTreeRegressor\n",
        "from sklearn.ensemble import RandomForestRegressor\n",
        "from sklearn.neural_network import MLPRegressor\n",
        "import xgboost as xgb\n",
        "#c:\\users\\harsh\\miniconda3\\envs\\maroon\\lib\\site-packages\\sklearn\\ensemble\\weight_boosting.py:29: DeprecationWarning: numpy.core.umath_tests is an internal NumPy module and should not be imported. It will be removed in a future NumPy release.\n",
        "  #from numpy.core.umath_tests import inner1d\n",
        "#np.random.randint(0, high=10, size=5)\n",
        "np.random.normal(size=9)\n",
        "#array([-2.44751615,  1.89845893,  1.78794848, -2.24497666, -1.34696884,0.82485303,  0.95871345, -1.4847142 ,  0.67080158])\n",
        "function_type = 'Sine'\n",
        "\n",
        "if function_type=='Logarithmic':\n",
        "    X_train = abs(np.random.normal(loc=5, size=(1000, 4)))\n",
        "    X_test = abs(np.random.normal(loc=5, size=(500, 4)))\n",
        "else:\n",
        "    X_train = np.random.normal(size=(1000, 4))\n",
        "    X_test = np.random.normal(size=(500, 4))\n",
        "def get_Y(X, funcion_type, paras):\n",
        "    X1 = X[:,0]\n",
        "    X2 = X[:,1]\n",
        "    X3 = X[:,2]\n",
        "    X4 = X[:,3]\n",
        "    if function_type=='Linear':\n",
        "        [a0, a1, a2, a3, a4] = paras\n",
        "        noise = np.random.normal(scale=(a1*X1).var(), size=X.shape[0])\n",
        "        Y = a0+a1*X1+a2*X2+a3*X3+a4*X4+noise\n",
        "    elif funcion_type=='Exponential':\n",
        "        [a0, a1, a2, a3, a4] = paras\n",
        "        noise = np.random.normal(scale=(a1*np.exp(X1)).var(), size=X.shape[0])\n",
        "        Y = a0+a1*np.exp(X1)+a2*np.exp(X2)+a3*np.exp(X3)+a4*np.exp(X4)+noise\n",
        "    elif function_type=='Logarithmic':     \n",
        "        [a0, a1, a2, a3, a4] = paras\n",
        "        noise = np.random.normal(scale=(a1*np.log(X1)).var(), size=X.shape[0])   \n",
        "        Y = a0+a1*np.log(X1)+a2*np.log(X2)+a3*np.log(X3)+a4*np.log(X4)+noise\n",
        "    elif function_type=='Power':        \n",
        "        [a0, a1, a2, a3, a4] = paras\n",
        "        noise = np.random.normal(scale=np.power(X1,a1).var(), size=X.shape[0])\n",
        "        Y = a0+np.power(X1,a1)+np.power(X2,a2)+np.power(X2,a2)+np.power(X3,a3)+np.power(X4,a4)+noise\n",
        "    elif function_type=='Modulus':       \n",
        "        [a0, a1, a2, a3, a4] = paras\n",
        "        noise = np.random.normal(scale=(a1*np.abs(X1)).var(), size=X.shape[0])\n",
        "        Y = a0+a1*np.abs(X1)+a2*np.abs(X2)+a3*np.abs(X3)+a4*np.abs(X4)+noise\n",
        "    elif function_type=='Sine':        \n",
        "        [a0, a1, b1, a2, b2, a3, b3, a4, b4] = paras\n",
        "        noise = np.random.normal(scale=(a1*np.sin(X1)).var(), size=X.shape[0])\n",
        "        Y = a0+a1*np.sin(X1)+b1*np.cos(X1)+a2*np.sin(X2)+b2*np.cos(X2)+a3*np.sin(X3)+b3*np.cos(X3)+a4*np.sin(X4)+b4*np.cos(X4)+noise\n",
        "    else:\n",
        "        print('Unknown function type')\n",
        "        \n",
        "    return Y\n",
        "if function_type=='Linear':\n",
        "    paras = [0.35526578, -0.85543226, -0.67566499, -1.97178384, -1.07461643]\n",
        "    Y_train = get_Y(X_train, function_type, paras)\n",
        "    Y_test = get_Y(X_test, function_type, paras)\n",
        "elif function_type=='Exponential':\n",
        "    paras = [ 0.15644562, -0.13978794, -1.8136447 ,  0.72604755, -0.65264939]\n",
        "    Y_train = get_Y(X_train, function_type, paras)\n",
        "    Y_test = get_Y(X_test, function_type, paras)\n",
        "elif function_type=='Logarithmic':\n",
        "    paras = [ 0.63278503, -0.7216328 , -0.02688884,  0.63856392,  0.5494543]\n",
        "    Y_train = get_Y(X_train, function_type, paras)\n",
        "    Y_test = get_Y(X_test, function_type, paras)\n",
        "elif function_type=='Power':\n",
        "    paras = [2, 2, 8, 9, 2]\n",
        "    Y_train = get_Y(X_train, function_type, paras)\n",
        "    Y_test = get_Y(X_test, function_type, paras)\n",
        "elif function_type=='Modulus':\n",
        "    paras = [ 0.15829356,  1.01611121, -0.3914764 , -0.21559318, -0.39467206]\n",
        "    Y_train = get_Y(X_train, function_type, paras)\n",
        "    Y_test = get_Y(X_test, function_type, paras)\n",
        "elif function_type=='Sine':\n",
        "    paras = [-2.44751615,  1.89845893,  1.78794848, -2.24497666, -1.34696884, 0.82485303,  0.95871345, -1.4847142 ,  0.67080158]\n",
        "    Y_train = get_Y(X_train, function_type, paras)\n",
        "    Y_test = get_Y(X_test, function_type, paras)\n",
        "#To check if train and test has common elements\n",
        "#np.isin(X_test, X_train)\n",
        "np.sum(X_train==X_test)\n",
        "#c:\\users\\harsh\\miniconda3\\envs\\maroon\\lib\\site-packages\\ipykernel_launcher.py:3: DeprecationWarning: elementwise == comparison failed; this will raise an error in the future.\n",
        "  #This is separate from the ipykernel package so we can avoid doing imports until\n",
        "\n",
        "np.argwhere(np.isnan(Y_train))\n",
        "#array([], shape=(0, 1), dtype=int64)\n",
        "model_type = 'MLP'\n",
        "\n",
        "if model_type=='XGBoost':\n",
        "    model = xgb.XGBRegressor()\n",
        "    #eval_set = [(X_train, Y_train), (X_test, Y_test)]\n",
        "    #model.fit(X_train, Y_train, eval_metric='rmse', eval_set=eval_set, verbose=True)\n",
        "elif model_type=='Linear Regression':\n",
        "    model = LinearRegression()\n",
        "elif model_type=='SVR':\n",
        "    model = SVR()\n",
        "elif model_type=='Decision Tree':\n",
        "    model = DecisionTreeRegressor()\n",
        "elif model_type=='Random Forest':\n",
        "    model = RandomForestRegressor()\n",
        "elif model_type=='MLP':\n",
        "    model = MLPRegressor(hidden_layer_sizes=(10, 10))\n",
        "\n",
        "model.fit(X_train, Y_train)\n",
        "#c:\\users\\harsh\\miniconda3\\envs\\maroon\\lib\\site-packages\\sklearn\\neural_network\\multilayer_perceptron.py:563: ConvergenceWarning: Stochastic Optimizer: Maximum iterations reached and the optimization hasn't converged yet.\n",
        "  #% (), ConvergenceWarning)\n",
        "#MLPRegressor(activation='relu', alpha=0.0001, batch_size='auto', beta_1=0.9,\n",
        "       #beta_2=0.999, early_stopping=False, epsilon=1e-08,\n",
        "       #hidden_layer_sizes=(10, 10), learning_rate='constant',\n",
        "       #learning_rate_init=0.001, max_iter=200, momentum=0.9,\n",
        "       #nesterovs_momentum=True, power_t=0.5, random_state=None,\n",
        "       #shuffle=True, solver='adam', tol=0.0001, validation_fraction=0.1,\n",
        "       #verbose=False, warm_start=False)\n",
        "Y_pred = model.predict(X_test)\n",
        "print('R-squared: %f' %explained_variance_score(Y_test, Y_pred))"
      ]
    }
  ]
}